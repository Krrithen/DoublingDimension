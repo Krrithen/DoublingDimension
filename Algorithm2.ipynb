{
  "nbformat": 4,
  "nbformat_minor": 0,
  "metadata": {
    "colab": {
      "provenance": []
    },
    "kernelspec": {
      "name": "python3",
      "display_name": "Python 3"
    },
    "language_info": {
      "name": "python"
    }
  },
  "cells": [
    {
      "cell_type": "code",
      "source": [
        "from google.colab import drive\n",
        "drive.mount('/content/drive')"
      ],
      "metadata": {
        "colab": {
          "base_uri": "https://localhost:8080/"
        },
        "id": "u7BBy85MbCRt",
        "outputId": "e696a214-dfce-487e-f0b2-2644c9260f0f"
      },
      "execution_count": 1,
      "outputs": [
        {
          "output_type": "stream",
          "name": "stdout",
          "text": [
            "Mounted at /content/drive\n"
          ]
        }
      ]
    },
    {
      "cell_type": "code",
      "execution_count": 80,
      "metadata": {
        "id": "apI9R6EyZRa7"
      },
      "outputs": [],
      "source": [
        "import networkx as nx\n",
        "import math\n",
        "import json\n",
        "import matplotlib.pyplot as plt\n",
        "import time\n",
        "\n",
        "\n",
        "class OptimizedCoverTree:\n",
        "    def __init__(self, nodes, distance_func):\n",
        "        \"\"\"\n",
        "        Initialize the optimized cover tree.\n",
        "        :param nodes: List of nodes in the graph or metric space.\n",
        "        :param distance_func: A function that computes distances between nodes.\n",
        "        \"\"\"\n",
        "        self.nodes = nodes\n",
        "        self.distance_func = distance_func\n",
        "        self.tree = self.build_cover_tree(nodes)\n",
        "        self.edges = self.get_edges()\n",
        "\n",
        "    def build_cover_tree(self, nodes):\n",
        "        \"\"\"\n",
        "        Build the hierarchical cover tree using cluster-based optimization.\n",
        "        :param nodes: List of nodes in the graph.\n",
        "        :return: A dictionary representing levels of the tree.\n",
        "        \"\"\"\n",
        "        levels = {}  # Dictionary to store levels of the tree\n",
        "        radius = max(self.distance_func(u, v) for u in nodes for v in nodes if u != v)  # Initial radius\n",
        "        parent_child_map = {}  # Map to track parent-child relationships\n",
        "        level = 0\n",
        "\n",
        "        while radius >= 1:  # Stop at the smallest meaningful radius\n",
        "            uncovered_nodes = set(nodes)\n",
        "            centers = []\n",
        "\n",
        "            # Cluster nodes based on the radius\n",
        "            while uncovered_nodes:\n",
        "                # Select any uncovered node as a new center\n",
        "                center = uncovered_nodes.pop()\n",
        "                centers.append(center)\n",
        "\n",
        "                # Remove all nodes within the current radius of this center\n",
        "                uncovered_nodes -= {n for n in uncovered_nodes if self.distance_func(center, n) <= radius}\n",
        "\n",
        "            levels[level] = centers\n",
        "\n",
        "            # Establish parent-child connections\n",
        "            if level > 0:  # Skip the first level (no parents at level -1)\n",
        "                for child in centers:\n",
        "                    # Find all potential parents from the previous level\n",
        "                    parents = [\n",
        "                        parent for parent in levels[level - 1]\n",
        "                        if self.distance_func(parent, child) <= radius * 2\n",
        "                    ]\n",
        "                    parent_child_map[child] = parents\n",
        "\n",
        "            radius /= 2  # Halve the radius\n",
        "            level += 1\n",
        "\n",
        "        self.parent_child_map = parent_child_map  # Store the parent-child relationships\n",
        "        return levels\n",
        "\n",
        "    def get_edges(self):\n",
        "        \"\"\"\n",
        "        Retrieve edges to plot the cover tree.\n",
        "        Each parent node connects to its children at the next level.\n",
        "        \"\"\"\n",
        "        edges = []\n",
        "        for child, parents in self.parent_child_map.items():\n",
        "            for parent in parents:\n",
        "                edges.append((parent, child))\n",
        "        return edges\n",
        "\n",
        "\n",
        "def compute_doubling_dimension(graph):\n",
        "    \"\"\"\n",
        "    Compute the doubling dimension of a graph using an optimized cover tree.\n",
        "    :param graph: The input graph (NetworkX graph).\n",
        "    :return: Doubling dimension.\n",
        "    \"\"\"\n",
        "    # Shortest-path metric\n",
        "    lengths = dict(nx.all_pairs_dijkstra_path_length(graph))\n",
        "\n",
        "    def graph_distance(u, v):\n",
        "        return lengths[u][v]\n",
        "\n",
        "    # Nodes of the graph\n",
        "    nodes = list(graph.nodes)\n",
        "    cover_tree = OptimizedCoverTree(nodes, graph_distance)\n",
        "\n",
        "    # Calculate doubling constant and doubling dimension\n",
        "    doubling_constant = max(\n",
        "        sum(\n",
        "            1\n",
        "            for child in cover_tree.tree.get(level + 1, [])\n",
        "            if graph_distance(parent, child) <= 2 ** level\n",
        "        )\n",
        "        for level, parents in cover_tree.tree.items()\n",
        "        for parent in parents\n",
        "    )\n",
        "    doubling_dimension = math.log2(doubling_constant)\n",
        "\n",
        "    return cover_tree, doubling_constant, round(doubling_dimension, 3)\n"
      ]
    },
    {
      "cell_type": "code",
      "source": [
        "def read_graph_from_json(filename):\n",
        "    G = nx.Graph()\n",
        "    with open(filename, \"r\") as f:\n",
        "        data = json.load(f)  # Load the JSON file\n",
        "\n",
        "    # Assuming 'inList' is the key in the JSON object\n",
        "    inList = data[0]['inList']\n",
        "\n",
        "    # Iterate through inList to create edges\n",
        "    for target_node, sources in enumerate(inList):\n",
        "        for source_node in sources:\n",
        "            G.add_edge(source_node, target_node, weight=1)\n",
        "\n",
        "    return G\n",
        "\n",
        "def read_graph_from_txt(filename):\n",
        "    G = nx.Graph()\n",
        "    with open(filename, \"r\") as f:\n",
        "        for line in f:\n",
        "            node1, node2 = map(int, line.strip().split())  # Parse the two numbers\n",
        "            G.add_edge(node1, node2, weight=1)  # Add an edge with weight 1\n",
        "    return G\n",
        "\n",
        "\n",
        "# File containing graph data for Twitter Dataset\n",
        "json_file = \"drive/MyDrive/Colab Notebooks/congress_network_data.json\"\n",
        "\n",
        "# File containing graph data for Facebook Dataset\n",
        "# txt_file = \"drive/MyDrive/Colab Notebooks/facebook.txt\"\n",
        "\n",
        "# Build the graph\n",
        "G = read_graph_from_json(json_file)\n",
        "# G = read_graph_from_txt(txt_file)\n",
        "\n",
        "# Uncomment to Use Synthetic Data\n",
        "# edges = [\n",
        "#     (\"A\", \"B\", 1),\n",
        "#     (\"A\", \"C\", 1),\n",
        "#     (\"A\", \"D\", 1),\n",
        "#     (\"B\", \"E\", 1),\n",
        "#     (\"B\", \"F\", 1),\n",
        "#     (\"B\", \"G\", 1),\n",
        "#     (\"C\", \"H\", 1),\n",
        "#     (\"C\", \"I\", 1),\n",
        "#     (\"D\", \"J\", 1),\n",
        "#     (\"D\", \"K\", 1),\n",
        "#     (\"E\", \"L\", 1),\n",
        "#     (\"E\", \"M\", 1),\n",
        "#     (\"F\", \"N\", 1),\n",
        "#     (\"F\", \"O\", 1),\n",
        "#     (\"G\", \"P\", 1),\n",
        "#     (\"G\", \"Q\", 1),\n",
        "#     (\"H\", \"R\", 1),\n",
        "#     (\"H\", \"S\", 1),\n",
        "#     (\"I\", \"T\", 1),\n",
        "#     (\"I\", \"U\", 1),\n",
        "#     (\"J\", \"V\", 1),\n",
        "#     (\"J\", \"W\", 1),\n",
        "#     (\"K\", \"X\", 1),\n",
        "#     (\"K\", \"Y\", 1),\n",
        "#     (\"L\", \"Z\", 1),\n",
        "#     (\"M\", \"N\", 1),\n",
        "#     (\"M\", \"P\", 1),\n",
        "#     (\"N\", \"Q\", 1),\n",
        "#     (\"O\", \"R\", 1),\n",
        "#     (\"O\", \"T\", 1),\n",
        "#     (\"P\", \"U\", 1),\n",
        "#     (\"Q\", \"V\", 1),\n",
        "#     (\"R\", \"W\", 1),\n",
        "#     (\"S\", \"X\", 1),\n",
        "#     (\"T\", \"Y\", 1),\n",
        "#     (\"U\", \"Z\", 1),\n",
        "#     (\"V\", \"M\", 1),\n",
        "#     (\"W\", \"O\", 1),\n",
        "#     (\"X\", \"P\", 1),\n",
        "#     (\"Y\", \"R\", 1),\n",
        "#     (\"Z\", \"T\", 1)\n",
        "# ]\n",
        "\n",
        "\n",
        "# Build the graph for Synthetic Data\n",
        "# G = nx.Graph()\n",
        "# G.add_weighted_edges_from(edges)"
      ],
      "metadata": {
        "id": "iQOnMu9jcGyT"
      },
      "execution_count": 82,
      "outputs": []
    },
    {
      "cell_type": "code",
      "source": [
        "# Visualize the graph\n",
        "def visualize_graph(G):\n",
        "    pos = nx.spring_layout(G, seed=10)  # Seed ensures consistent layout\n",
        "    plt.figure(figsize=(8, 6))\n",
        "    nx.draw(\n",
        "        G,\n",
        "        pos,\n",
        "        with_labels=True,\n",
        "        node_color=\"lightblue\",\n",
        "        edge_color=\"gray\",\n",
        "        node_size=300,\n",
        "        font_size=8,\n",
        "        font_weight=\"bold\",\n",
        "    )\n",
        "    edge_labels = nx.get_edge_attributes(G, \"weight\")\n",
        "    nx.draw_networkx_edge_labels(G, pos, edge_labels=edge_labels, font_size=10)\n",
        "    plt.title(\"Graph Visualization with Edge Weights\", fontsize=14)\n",
        "    plt.show()\n",
        "\n",
        "#Uncomment the Below Line to Visualize the Graph\n",
        "# visualize_graph(G)"
      ],
      "metadata": {
        "id": "XG1G8XjAcL6T",
        "collapsed": true
      },
      "execution_count": 83,
      "outputs": []
    },
    {
      "cell_type": "code",
      "source": [
        "if nx.is_connected(G):\n",
        "    print(\"The graph is connected.\")\n",
        "else:\n",
        "    print(\"The graph is not connected.\")\n"
      ],
      "metadata": {
        "colab": {
          "base_uri": "https://localhost:8080/"
        },
        "id": "tHw-Gb-srras",
        "outputId": "8197df84-fc73-48d8-d5c8-105efa3e79f8"
      },
      "execution_count": 84,
      "outputs": [
        {
          "output_type": "stream",
          "name": "stdout",
          "text": [
            "The graph is connected.\n"
          ]
        }
      ]
    },
    {
      "cell_type": "code",
      "source": [
        "start_time = time.time()\n",
        "\n",
        "# Compute the doubling dimension using the optimized cover tree\n",
        "cover_tree, doubling_constant, doubling_dimension = compute_doubling_dimension(G)\n",
        "\n",
        "end_time = time.time()\n",
        "\n",
        "# Display results\n",
        "print(\"Optimized Cover Tree Levels:\")\n",
        "for level, nodes in cover_tree.tree.items():\n",
        "    print(f\"Level {level}: {nodes}\")\n",
        "\n",
        "print(\"\\nDoubling Constant:\", doubling_constant)\n",
        "print(\"Doubling Dimension:\", doubling_dimension)\n",
        "\n",
        "execution_time = end_time - start_time\n",
        "print(f\"\\nExecution Time: {execution_time:.6f} seconds\")\n"
      ],
      "metadata": {
        "colab": {
          "base_uri": "https://localhost:8080/"
        },
        "id": "vItZVxQOcPNT",
        "outputId": "9cfdc5bf-7539-4398-dcb0-e6341e0bf158"
      },
      "execution_count": 85,
      "outputs": [
        {
          "output_type": "stream",
          "name": "stdout",
          "text": [
            "Optimized Cover Tree Levels:\n",
            "Level 0: [0]\n",
            "Level 1: [0, 34, 100, 196, 285, 297, 395, 404]\n",
            "Level 2: [0, 1, 2, 3, 5, 6, 7, 10, 14, 16, 34, 48, 63, 75, 78, 93, 94, 95, 96, 97, 98, 99, 100, 101, 107, 114, 121, 123, 127, 131, 133, 144, 146, 153, 163, 166, 167, 172, 173, 177, 187, 196, 209, 210, 216, 224, 225, 227, 230, 240, 252, 265, 270, 277, 280, 282, 287, 309, 314, 316, 334, 342, 344, 362, 378, 384, 395, 404, 414, 434, 458, 465]\n",
            "\n",
            "Doubling Constant: 47\n",
            "Doubling Dimension: 5.555\n",
            "\n",
            "Execution Time: 7.080956 seconds\n"
          ]
        }
      ]
    }
  ]
}